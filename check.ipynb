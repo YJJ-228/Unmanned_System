{
 "cells": [
  {
   "cell_type": "code",
   "execution_count": 17,
   "metadata": {},
   "outputs": [],
   "source": [
    "from ultralytics import YOLO\n",
    "import os"
   ]
  },
  {
   "cell_type": "code",
   "execution_count": 22,
   "metadata": {},
   "outputs": [
    {
     "name": "stdout",
     "output_type": "stream",
     "text": [
      "\n",
      "0: 224x224 sports_car 0.68, racer 0.23, limousine 0.01, convertible 0.01, beach_wagon 0.01, 5.7ms\n",
      "1: 224x224 Persian_cat 0.90, Pomeranian 0.05, lynx 0.03, Pekinese 0.00, tabby 0.00, 5.7ms\n",
      "2: 224x224 impala 0.69, gazelle 0.21, Italian_greyhound 0.03, llama 0.02, bustard 0.01, 5.7ms\n",
      "3: 224x224 golden_retriever 0.91, Tibetan_mastiff 0.04, chow 0.01, Leonberg 0.00, Sussex_spaniel 0.00, 5.7ms\n",
      "4: 224x224 sorrel 0.97, Saluki 0.03, Irish_setter 0.00, Rhodesian_ridgeback 0.00, impala 0.00, 5.7ms\n",
      "5: 224x224 parachute 0.17, umbrella 0.12, killer_whale 0.11, gong 0.05, sombrero 0.05, 5.7ms\n",
      "6: 224x224 crane_(machine) 0.33, warplane 0.20, wing 0.12, traffic_light 0.04, airliner 0.03, 5.7ms\n",
      "7: 224x224 fireboat 0.61, pirate 0.20, speedboat 0.09, lifeboat 0.06, dock 0.02, 5.7ms\n",
      "Speed: 7.2ms preprocess, 5.7ms inference, 0.0ms postprocess per image at shape (1, 3, 224, 224)\n"
     ]
    }
   ],
   "source": [
    "data_dir='img/'\n",
    "model = YOLO(r\"runs\\classify\\train\\weights\\best.pt\")\n",
    "\n",
    "img=[]\n",
    "for filename in os.listdir(data_dir):\n",
    "    img.append('img/'+filename)\n",
    "\n",
    "results = model(img)\n",
    "i=0\n",
    "\n",
    "\n",
    "for result in results:\n",
    "    boxes = result.boxes  # Boxes object for bounding box outputs\n",
    "    masks = result.masks  # Masks object for segmentation masks outputs\n",
    "    keypoints = result.keypoints  # Keypoints object for pose outputs\n",
    "    probs = result.probs  # Probs object for classification outputs\n",
    "    obb = result.obb  # Oriented boxes object for OBB outputs\n",
    "    result.save(filename=f\"result_img/result{i}.jpg\")  # save to disk\n",
    "    i+=1"
   ]
  }
 ],
 "metadata": {
  "kernelspec": {
   "display_name": "Python 3",
   "language": "python",
   "name": "python3"
  },
  "language_info": {
   "codemirror_mode": {
    "name": "ipython",
    "version": 3
   },
   "file_extension": ".py",
   "mimetype": "text/x-python",
   "name": "python",
   "nbconvert_exporter": "python",
   "pygments_lexer": "ipython3",
   "version": "3.12.8"
  }
 },
 "nbformat": 4,
 "nbformat_minor": 2
}
