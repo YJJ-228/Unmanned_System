{
 "cells": [
  {
   "cell_type": "code",
   "execution_count": 1,
   "metadata": {},
   "outputs": [],
   "source": [
    "from ultralytics import YOLO\n",
    "import os"
   ]
  },
  {
   "cell_type": "code",
   "execution_count": null,
   "metadata": {},
   "outputs": [],
   "source": [
    "# 载入模型\n",
    "detect_model = YOLO(r\"runs\\detect\\train\\weights\\best.pt\")\n",
    "classify_model = YOLO(r\"runs\\classify\\train\\weights\\best.pt\")"
   ]
  },
  {
   "cell_type": "code",
   "execution_count": 2,
   "metadata": {},
   "outputs": [
    {
     "name": "stdout",
     "output_type": "stream",
     "text": [
      "\n",
      "0: 32x32 automobile 0.72, airplane 0.11, ship 0.09, truck 0.06, bird 0.01, 7.5ms\n",
      "1: 32x32 cat 0.42, frog 0.27, dog 0.26, bird 0.02, horse 0.02, 7.5ms\n",
      "2: 32x32 deer 0.57, frog 0.14, bird 0.09, cat 0.06, dog 0.04, 7.5ms\n",
      "3: 32x32 dog 0.58, cat 0.17, frog 0.08, horse 0.08, deer 0.07, 7.5ms\n",
      "4: 32x32 horse 0.75, deer 0.16, dog 0.05, cat 0.02, bird 0.01, 7.5ms\n",
      "5: 32x32 bird 0.43, airplane 0.18, ship 0.13, deer 0.10, horse 0.07, 7.5ms\n",
      "6: 32x32 airplane 0.28, ship 0.20, truck 0.17, deer 0.16, horse 0.07, 7.5ms\n",
      "7: 32x32 airplane 0.93, ship 0.03, bird 0.02, truck 0.01, deer 0.01, 7.5ms\n",
      "8: 32x32 ship 0.97, airplane 0.01, automobile 0.01, cat 0.00, truck 0.00, 7.5ms\n",
      "Speed: 10.9ms preprocess, 7.5ms inference, 0.0ms postprocess per image at shape (1, 3, 32, 32)\n",
      "Results saved to \u001b[1mruns\\classify\\predict\u001b[0m\n",
      "9 labels saved to runs\\classify\\predict\\labels\n"
     ]
    }
   ],
   "source": [
    "# 图片处理\n",
    "data_dir='img/'\n",
    "\n",
    "img=[]\n",
    "for filename in os.listdir(data_dir):\n",
    "    img.append(data_dir+filename)\n",
    "\n",
    "results = classify_model.predict(img,save=True,save_txt=True)\n",
    "i=0\n",
    "\n",
    "\n",
    "for result in results:\n",
    "    boxes = result.boxes  # Boxes object for bounding box outputs\n",
    "    masks = result.masks  # Masks object for segmentation masks outputs\n",
    "    keypoints = result.keypoints  # Keypoints object for pose outputs\n",
    "    probs = result.probs  # Probs object for classification outputs\n",
    "    obb = result.obb  # Oriented boxes object for OBB outputs\n",
    "    result.save(filename=f\"result_img/result{i}.jpg\")  # save to disk\n",
    "    i+=1"
   ]
  }
 ],
 "metadata": {
  "kernelspec": {
   "display_name": "Python 3",
   "language": "python",
   "name": "python3"
  },
  "language_info": {
   "codemirror_mode": {
    "name": "ipython",
    "version": 3
   },
   "file_extension": ".py",
   "mimetype": "text/x-python",
   "name": "python",
   "nbconvert_exporter": "python",
   "pygments_lexer": "ipython3",
   "version": "3.12.8"
  }
 },
 "nbformat": 4,
 "nbformat_minor": 2
}
